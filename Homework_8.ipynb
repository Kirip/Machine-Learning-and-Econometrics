{
  "nbformat": 4,
  "nbformat_minor": 0,
  "metadata": {
    "colab": {
      "provenance": [],
      "authorship_tag": "ABX9TyOCYsBO3HYI8u1qH/Gos5Az",
      "include_colab_link": true
    },
    "kernelspec": {
      "name": "python3",
      "display_name": "Python 3"
    },
    "language_info": {
      "name": "python"
    }
  },
  "cells": [
    {
      "cell_type": "markdown",
      "metadata": {
        "id": "view-in-github",
        "colab_type": "text"
      },
      "source": [
        "<a href=\"https://colab.research.google.com/github/Kirip/Python/blob/main/Homework_8.ipynb\" target=\"_parent\"><img src=\"https://colab.research.google.com/assets/colab-badge.svg\" alt=\"Open In Colab\"/></a>"
      ]
    },
    {
      "cell_type": "markdown",
      "source": [
        "## Question 4\n",
        "Part A"
      ],
      "metadata": {
        "id": "mrONr5DRPWcG"
      }
    },
    {
      "cell_type": "code",
      "execution_count": null,
      "metadata": {
        "colab": {
          "base_uri": "https://localhost:8080/"
        },
        "id": "MeYGCalYOtaK",
        "outputId": "1a6f31d4-755d-45e3-d394-9bb4aeb262e6"
      },
      "outputs": [
        {
          "output_type": "stream",
          "name": "stdout",
          "text": [
            "Optimal Permutation Matrix P:\n",
            "[[1. 0.]\n",
            " [0. 1.]]\n"
          ]
        }
      ],
      "source": [
        "import cvxpy as cp\n",
        "import numpy as np\n",
        "\n",
        "def find_closest_permutation_matrix(C):\n",
        "    n = C.shape[0]\n",
        "    # Define the variable, which is an n x n matrix.\n",
        "    P = cp.Variable((n, n), integer=True)\n",
        "\n",
        "    # Objective is to maximize the inner product <C, P>\n",
        "    objective = cp.Maximize(cp.trace(C.T @ P))\n",
        "\n",
        "    # Constraints that define P as a permutation matrix\n",
        "    constraints = [\n",
        "        cp.sum(P, axis=0) == 1,  # sum of each column is 1\n",
        "        cp.sum(P, axis=1) == 1,  # sum of each row is 1\n",
        "        P >= 0,  # all elements are non-negative\n",
        "        P <= 1   # all elements are less or equal to 1\n",
        "    ]\n",
        "\n",
        "    # Define and solve the problem\n",
        "    prob = cp.Problem(objective, constraints)\n",
        "    prob.solve(solver=cp.GLPK_MI)  # Using GLPK solver with mixed integer programming\n",
        "\n",
        "    # Return the result as a NumPy array\n",
        "    return P.value\n",
        "\n",
        "# Example usage\n",
        "C = np.array([[0.5, 0.1], [0.4, 0.9]])\n",
        "P = find_closest_permutation_matrix(C)\n",
        "print(\"Optimal Permutation Matrix P:\")\n",
        "print(P)\n"
      ]
    },
    {
      "cell_type": "markdown",
      "source": [
        "Part B:\n",
        "\n"
      ],
      "metadata": {
        "id": "tNiwyjvaP1A9"
      }
    },
    {
      "cell_type": "code",
      "source": [
        "def solve_lp_relaxation(C):\n",
        "  n = C.shape[0]\n",
        "  P = cp.Variable((n,n)) # variable is n x n matrix\n",
        "  aim = cp.Maximize(cp.trace(C.T @ P)) # maximize the inner product <c,p>\n",
        "  # constraints that P's row and columns sum to 1 and entries are non-negative\n",
        "  subject_to = {\n",
        "      cp.sum(P, axis=0) == 1, # column sum is 1\n",
        "      cp.sum(P, axis=1) ==1, # row sum is 1\n",
        "      P >= 0, # non-negative\n",
        "  }\n",
        "  question = cp.Problem(aim,subject_to)\n",
        "  question.solve()\n",
        "\n",
        "  return np.round(P.value, decimals=3)\n",
        "\n",
        "C = np.array([\n",
        "    [1,0,0],\n",
        "     [0,0,1],\n",
        "     [0,1,0]])\n",
        "P_star = solve_lp_relaxation(C)\n",
        "print(\"Optimal Point P*:\")\n",
        "print(P_star)"
      ],
      "metadata": {
        "colab": {
          "base_uri": "https://localhost:8080/"
        },
        "id": "LtSIt6fFPeqr",
        "outputId": "4224a47f-212a-49dd-dc48-0dcb242abec3"
      },
      "execution_count": null,
      "outputs": [
        {
          "output_type": "stream",
          "name": "stdout",
          "text": [
            "Optimal Point P*:\n",
            "[[1. 0. 0.]\n",
            " [0. 0. 1.]\n",
            " [0. 1. 0.]]\n"
          ]
        }
      ]
    },
    {
      "cell_type": "markdown",
      "source": [
        "Part C\n",
        "\n",
        "The matrices are not a permutation matrix, it means it does not have exactly one entry of 1 in each row and each column, with all other entries being 0, which is a requirement for a permutation matrix. This lack of the permutation matrix properties indicates that the matrix does not represent a permutation of elements and does not have the specific mathematical and computational properties that make permutation matrices useful in certain contexts, such as representing permutations or being orthogonal"
      ],
      "metadata": {
        "id": "q3BkcQ4sU9rG"
      }
    },
    {
      "cell_type": "code",
      "source": [
        "def is_permutation_matrix(C):\n",
        "    # Check if the matrix is square\n",
        "    if C.shape[0] != C.shape[1]:\n",
        "        return False\n",
        "    # Check if the matrix contains exactly one 1 in each row and column\n",
        "    row_sums = np.sum(C, axis=1)\n",
        "    col_sums = np.sum(C, axis=0)\n",
        "    return np.all(row_sums == 1) and np.all(col_sums == 1)\n",
        "\n",
        "# Example usage with random 4x4 matrices, repeat 4 times\n",
        "for _ in range(4):\n",
        "    C = np.random.rand(4, 4)  # Create a random 4x4 matrix\n",
        "    P_star = solve_lp_relaxation(C)\n",
        "    print(\"Random Matrix C:\")\n",
        "    print(C)\n",
        "    print(\"Optimal Point P*:\")\n",
        "    print(P_star)\n",
        "    print(\"\\n\")\n",
        "    print(\"Is it a permutation matrix?\", is_permutation_matrix(C))"
      ],
      "metadata": {
        "colab": {
          "base_uri": "https://localhost:8080/"
        },
        "id": "_i5BcBUtVa6P",
        "outputId": "e58bdec5-5119-4fad-f830-49b802716b67"
      },
      "execution_count": null,
      "outputs": [
        {
          "output_type": "stream",
          "name": "stdout",
          "text": [
            "Random Matrix C:\n",
            "[[0.08424816 0.9269626  0.67065868 0.79252678]\n",
            " [0.04784085 0.60042658 0.82747622 0.78570731]\n",
            " [0.76349169 0.80743219 0.68263314 0.58409522]\n",
            " [0.76766858 0.40311913 0.98936426 0.23262065]]\n",
            "Optimal Point P*:\n",
            "[[0. 1. 0. 0.]\n",
            " [0. 0. 0. 1.]\n",
            " [1. 0. 0. 0.]\n",
            " [0. 0. 1. 0.]]\n",
            "\n",
            "\n",
            "Is it a permutation matrix? False\n",
            "Random Matrix C:\n",
            "[[0.84401918 0.60430384 0.41784673 0.24954582]\n",
            " [0.90492158 0.07328409 0.39684956 0.97125819]\n",
            " [0.90579619 0.71268818 0.30517918 0.33535527]\n",
            " [0.39024856 0.32735188 0.37851205 0.6547918 ]]\n",
            "Optimal Point P*:\n",
            "[[1. 0. 0. 0.]\n",
            " [0. 0. 0. 1.]\n",
            " [0. 1. 0. 0.]\n",
            " [0. 0. 1. 0.]]\n",
            "\n",
            "\n",
            "Is it a permutation matrix? False\n",
            "Random Matrix C:\n",
            "[[0.42062757 0.55594434 0.38878478 0.35297998]\n",
            " [0.30141541 0.3132381  0.95643536 0.52149808]\n",
            " [0.98980149 0.4366732  0.38165586 0.67704672]\n",
            " [0.2645079  0.39539482 0.73224453 0.48719783]]\n",
            "Optimal Point P*:\n",
            "[[0. 1. 0. 0.]\n",
            " [0. 0. 1. 0.]\n",
            " [1. 0. 0. 0.]\n",
            " [0. 0. 0. 1.]]\n",
            "\n",
            "\n",
            "Is it a permutation matrix? False\n",
            "Random Matrix C:\n",
            "[[0.73317705 0.19114359 0.94208205 0.38530823]\n",
            " [0.28825712 0.80302029 0.71181363 0.23899285]\n",
            " [0.68124943 0.75400429 0.12754181 0.14159767]\n",
            " [0.26614285 0.04101207 0.08773806 0.3118738 ]]\n",
            "Optimal Point P*:\n",
            "[[0. 0. 1. 0.]\n",
            " [0. 1. 0. 0.]\n",
            " [1. 0. 0. 0.]\n",
            " [0. 0. 0. 1.]]\n",
            "\n",
            "\n",
            "Is it a permutation matrix? False\n"
          ]
        }
      ]
    },
    {
      "cell_type": "markdown",
      "source": [
        "Part D\n",
        "\n",
        "The optimal point P* from the linear programming LP relaxation is not guaranteed to be a permutation matrix because the LP relaxation allows the entries of P to take any real values between 0 and 1, rather than strictly 0 or 1 as required for permutation matrices. In LP relaxation, the constraints ensure that each row and column sums to 1, but the individual entries can be fractional, meaning P* can include values like 0.3 or 0.5, etc. Therefore, while P* satisfies the row and column sum constraints of a permutation matrix, it does not adhere to the binary constraints, resulting in a matrix that represents a probabilistic or \"soft\" assignment between elements rather than an exact permutation."
      ],
      "metadata": {
        "id": "-dzI7RUxZkgN"
      }
    },
    {
      "cell_type": "markdown",
      "source": [
        "Part E\n",
        "\n",
        "When the matrix \\( C \\) has the same value in all its entries, such as in this example, the optimal matrix \\( P* \\) found by linear programming (LP) might look very similar to \\( C \\). This happens because each part of \\( P \\) affects the result equally when \\( C \\) is uniform, so spreading out values evenly in \\( P \\) gives the best result. LP relaxation allows \\( P \\) to have values between 0 and 1 and still make the rows and columns add up to 1. In such cases, the method finds that an evenly distributed \\( P \\) maximizes the goal, leading to a \\( P* \\) that looks like \\( C \\). This shows how a uniform \\( C \\) leads to a similarly uniform \\( P \\) when using LP relaxation."
      ],
      "metadata": {
        "id": "nnwP1HHfalWG"
      }
    },
    {
      "cell_type": "code",
      "source": [
        "# A 2 X 2 matrix\n",
        "C = np.array([\n",
        "    [0.5,0.5],\n",
        "     [0.5,0.5]])\n",
        "P_star = solve_lp_relaxation(C)\n",
        "print(\"Optimal Point P*:\")\n",
        "print(P_star)"
      ],
      "metadata": {
        "colab": {
          "base_uri": "https://localhost:8080/"
        },
        "id": "0aYxfr4nV9Gv",
        "outputId": "50d77148-9f12-419c-8d58-0df9285a476a"
      },
      "execution_count": null,
      "outputs": [
        {
          "output_type": "stream",
          "name": "stdout",
          "text": [
            "Optimal Point P*:\n",
            "[[0.5 0.5]\n",
            " [0.5 0.5]]\n"
          ]
        }
      ]
    }
  ]
}