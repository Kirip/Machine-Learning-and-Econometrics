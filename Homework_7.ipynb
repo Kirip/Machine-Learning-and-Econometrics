{
  "nbformat": 4,
  "nbformat_minor": 0,
  "metadata": {
    "colab": {
      "provenance": [],
      "toc_visible": true,
      "authorship_tag": "ABX9TyMnPH7pXbel50NwZ913nl7Z",
      "include_colab_link": true
    },
    "kernelspec": {
      "name": "python3",
      "display_name": "Python 3"
    },
    "language_info": {
      "name": "python"
    }
  },
  "cells": [
    {
      "cell_type": "markdown",
      "metadata": {
        "id": "view-in-github",
        "colab_type": "text"
      },
      "source": [
        "<a href=\"https://colab.research.google.com/github/Kirip/Python/blob/main/Homework_7.ipynb\" target=\"_parent\"><img src=\"https://colab.research.google.com/assets/colab-badge.svg\" alt=\"Open In Colab\"/></a>"
      ]
    },
    {
      "cell_type": "code",
      "execution_count": 15,
      "metadata": {
        "id": "gV2EB87KxVBv"
      },
      "outputs": [],
      "source": [
        "import cvxpy as cp\n",
        "import numpy as np\n"
      ]
    },
    {
      "cell_type": "markdown",
      "source": [
        "## Problem 3"
      ],
      "metadata": {
        "id": "bfRkMSX7xcit"
      }
    },
    {
      "cell_type": "markdown",
      "source": [
        "Part A"
      ],
      "metadata": {
        "id": "Pt7x1Sh8yLeO"
      }
    },
    {
      "cell_type": "code",
      "source": [
        "# define the variables\n",
        "p = np.array([7,3,0,4,7,3,0,7,3])\n",
        "t = cp.Variable()\n",
        "objective = cp.Minimize(cp.sum_squares(t-p))\n",
        "\n",
        "# solve the Problem\n",
        "problem = cp.Problem(objective)\n",
        "problem.solve()\n",
        "print('The Optimal point t* is', t.value)"
      ],
      "metadata": {
        "colab": {
          "base_uri": "https://localhost:8080/"
        },
        "id": "BB0exOXbxphu",
        "outputId": "69a926d4-0ef0-48b9-bedd-c0cf04f4dee5"
      },
      "execution_count": 10,
      "outputs": [
        {
          "output_type": "stream",
          "name": "stdout",
          "text": [
            "The Optimal point t* is 3.7777777777777777\n"
          ]
        }
      ]
    },
    {
      "cell_type": "markdown",
      "source": [
        "Part B"
      ],
      "metadata": {
        "id": "O5iOeq0G1OxK"
      }
    },
    {
      "cell_type": "code",
      "source": [
        "p = np.array([1,2,3,4])\n",
        "t = cp.Variable()\n",
        "obj = cp.Minimize(cp.sum_squares(t - p))\n",
        "prob = cp.Problem(obj)\n",
        "prob.solve()\n",
        "print(\"Optimal t* for Part (b) is\", t.value)"
      ],
      "metadata": {
        "colab": {
          "base_uri": "https://localhost:8080/"
        },
        "id": "jGzCSvg91YWH",
        "outputId": "8499a696-4e35-4608-ef95-8126697c049b"
      },
      "execution_count": 11,
      "outputs": [
        {
          "output_type": "stream",
          "name": "stdout",
          "text": [
            "Optimal t* for Part (b): 2.5\n"
          ]
        }
      ]
    },
    {
      "cell_type": "markdown",
      "source": [
        "Part C"
      ],
      "metadata": {
        "id": "iCwa0Twv134j"
      }
    },
    {
      "cell_type": "code",
      "source": [
        "p = np.array([1,2,3,4,100])\n",
        "t = cp.Variable()\n",
        "obje = cp.Minimize(cp.sum_squares(t-p))\n",
        "probl = cp.Problem(obje)\n",
        "probl.solve()\n",
        "print(\"Optimal t* for Part (c) is \", t.value)"
      ],
      "metadata": {
        "colab": {
          "base_uri": "https://localhost:8080/"
        },
        "id": "KeZSqi5P14-I",
        "outputId": "6711d4b4-748d-4283-a711-1bd5d5bc3447"
      },
      "execution_count": 12,
      "outputs": [
        {
          "output_type": "stream",
          "name": "stdout",
          "text": [
            "Optimal t* for Part (c) is  22.000000000000004\n"
          ]
        }
      ]
    },
    {
      "cell_type": "markdown",
      "source": [
        "Part D\n",
        "\n",
        "The optimal point t* is unique for any vector p because the objective function is strictly convex. In strictly convex functions, any local minimum is also a global minimum, and there exists only one such minimum.\n",
        "\n",
        "Interpertation: the optimal t* represents the \"center of mass\" or the average of the vector components. This minimizes the total squared Eculidean distance to all points in p, aligns with the concept of mean as the balance point in a distribution."
      ],
      "metadata": {
        "id": "cv5IQ5j62Yxa"
      }
    },
    {
      "cell_type": "markdown",
      "source": [
        "## Problem 4"
      ],
      "metadata": {
        "id": "NeM6wNmz3JhG"
      }
    },
    {
      "cell_type": "code",
      "source": [
        "def solve_optimization(p):\n",
        "  n = len(p)\n",
        "  x = cp.Variable(n)\n",
        "  y = cp.Variable(n)\n",
        "  t = cp.Variable()\n",
        "\n",
        "  objective = cp.Minimize(cp.sum(x+y))\n",
        "  # Constraints\n",
        "  constraints =[t *np.ones(n)-p == x-y, x >= 0, y >= 0]\n",
        "\n",
        "  # Define the problem and solve\n",
        "  problem = cp.Problem(objective, constraints)\n",
        "  problem.solve()\n",
        "\n",
        "  print(f\"Optimal t* for p = {p} is, {t.value}\")\n",
        "\n",
        "# Part A\n",
        "p_unc = np.array([7,3,0,4,7,3,0,7,3])\n",
        "solve_optimization(p_unc)\n",
        "\n",
        "# Part B\n",
        "p_simple = np.array([1,2,3,4])\n",
        "solve_optimization(p_simple)\n",
        "\n",
        "# Part C\n",
        "p = np.array([1,2,3,4,100])\n",
        "solve_optimization(p)\n"
      ],
      "metadata": {
        "colab": {
          "base_uri": "https://localhost:8080/"
        },
        "id": "-O0lySx33PrL",
        "outputId": "cc33fa77-078f-4427-fe15-5efec2ed59e3"
      },
      "execution_count": 17,
      "outputs": [
        {
          "output_type": "stream",
          "name": "stdout",
          "text": [
            "Optimal t* for p = [7 3 0 4 7 3 0 7 3] is, 3.000000000145494\n",
            "Optimal t* for p = [1 2 3 4] is, 2.499999994457895\n",
            "Optimal t* for p = [  1   2   3   4 100] is, 2.9999999873959697\n"
          ]
        }
      ]
    },
    {
      "cell_type": "markdown",
      "source": [
        "Part D\n",
        "\n",
        "The optimal t* in this problem formulation tends to be the median of the vector p, particularly when n is odd. This is because the median minimizes the sum of absolute deviations. When n is even, any value between the two central elements of p when sorted will yield the same objective value, suggesting that t* is not unique in such cases.\n",
        "\n",
        "Interpertation: In the optimization problem designed to minimize the sum of absolute deviations from a scalar t to each element of the vector p, the optimal t effectively represents the median of p. This median is unique when the number of elements n in p is odd, providing a single middle value that minimizes these deviations. However, when n is even, the median is not strictly unique, as any value between the two middle elements in the sorted list will minimize the total absolute deviation, reflecting the conventional definition of the median as the average of the two central values. Thus, t* in this optimization context underlines the median's role as a robust central point that is less influenced by outliers compared to the mean."
      ],
      "metadata": {
        "id": "6go_gUJS57an"
      }
    },
    {
      "cell_type": "markdown",
      "source": [
        "Part E\n",
        "\n",
        "a simpler and more straightforward way to solve for t without manually handling the decomposition into x and y. This formulation adheres closely to linear programming principles"
      ],
      "metadata": {
        "id": "xvmu5EMH8Iwk"
      }
    },
    {
      "cell_type": "code",
      "source": [
        "def solve_simplified(p):\n",
        "  t = cp.Variable()\n",
        "  objecti = cp.Minimize(cp.sum(cp.abs(t-p)))\n",
        "  proble = cp.Problem(objecti)\n",
        "  proble.solve()\n",
        "  print(f'Optimal t* for p ={p} is {t.value}')\n",
        "\n",
        "# Example PID:\n",
        "p_example = np.array([7,3,0,4,7,3,0,7,3])\n",
        "solve_simplified(p_example)"
      ],
      "metadata": {
        "colab": {
          "base_uri": "https://localhost:8080/"
        },
        "id": "fCf1WzCe6S4I",
        "outputId": "badadcda-e6bb-4ddd-8336-4d40a95edb6c"
      },
      "execution_count": 18,
      "outputs": [
        {
          "output_type": "stream",
          "name": "stdout",
          "text": [
            "Optimal t* for p =[7 3 0 4 7 3 0 7 3] is 3.000000000124755\n"
          ]
        }
      ]
    }
  ]
}